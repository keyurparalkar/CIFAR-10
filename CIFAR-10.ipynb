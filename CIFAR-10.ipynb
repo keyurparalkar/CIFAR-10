{
 "cells": [
  {
   "cell_type": "code",
   "execution_count": 81,
   "metadata": {},
   "outputs": [],
   "source": [
    "import torch.nn as nn\n",
    "import torch\n",
    "import torchvision\n",
    "import torchvision.transforms as transforms\n",
    "import torch.nn.functional as F\n",
    "import torch.utils.data as data_utils\n",
    "\n",
    "import matplotlib.pyplot as plt\n",
    "import numpy as np\n",
    "import PIL.Image\n",
    "import pickle\n",
    "import os"
   ]
  },
  {
   "cell_type": "code",
   "execution_count": 85,
   "metadata": {},
   "outputs": [],
   "source": [
    "#Reading Image through Pickle (only training data)\n",
    "def ImageToArray(train):\n",
    "        filePath = './Datasets/CIFAR10/cifar-10-batches-py/'\n",
    "        listOfTestFiles = os.listdir(path=filePath)\n",
    "        temp = []\n",
    "        tempLabels = []\n",
    "        \n",
    "        if(train == True):\n",
    "            print(listOfTestFiles[1:6])\n",
    "    #         For collecting Training data:\n",
    "            for file in listOfTestFiles[1:6]:\n",
    "                with open(filePath+file,'rb') as fo:\n",
    "                    dict = pickle.load(fo,encoding='bytes')\n",
    "                    temp.append(dict[b'data'])\n",
    "                    tempLabels.append(dict[b'labels'])\n",
    "        else:\n",
    "            print(listOfTestFiles[7])\n",
    "            #for collecting Testing data\n",
    "            with open(filePath+listOfTestFiles[7],'rb') as fo:\n",
    "                    dict = pickle.load(fo,encoding='bytes')\n",
    "                    temp.append(dict[b'data'])\n",
    "                    tempLabels.append(dict[b'labels'])\n",
    "        \n",
    "        dictData = {}\n",
    "        dictData['label'] = np.array(tempLabels)\n",
    "        dictData['data'] = np.array(temp)\n",
    "        return dictData"
   ]
  },
  {
   "cell_type": "code",
   "execution_count": 86,
   "metadata": {},
   "outputs": [
    {
     "name": "stdout",
     "output_type": "stream",
     "text": [
      "['data_batch_1', 'data_batch_2', 'data_batch_3', 'data_batch_4', 'data_batch_5']\n"
     ]
    }
   ],
   "source": [
    "tempDict = ImageToArray(train=True)"
   ]
  },
  {
   "cell_type": "code",
   "execution_count": 87,
   "metadata": {},
   "outputs": [
    {
     "data": {
      "text/plain": [
       "(5, 10000, 3072)"
      ]
     },
     "execution_count": 87,
     "metadata": {},
     "output_type": "execute_result"
    }
   ],
   "source": [
    "tempDict['data'].shape"
   ]
  },
  {
   "cell_type": "code",
   "execution_count": 88,
   "metadata": {},
   "outputs": [],
   "source": [
    "tempDict['data'] = np.reshape(tempDict['data'],(tempDict['data'].shape[0]*tempDict['data'].shape[1],tempDict['data'].shape[2]))\n",
    "tempDict['label'] = np.reshape(tempDict['label'],(tempDict['label'].shape[0]*tempDict['label'].shape[1],1))"
   ]
  },
  {
   "cell_type": "code",
   "execution_count": 89,
   "metadata": {},
   "outputs": [
    {
     "name": "stdout",
     "output_type": "stream",
     "text": [
      "Data shape =  (50000, 3072)\n",
      "Labels shape =  (50000, 1)\n"
     ]
    }
   ],
   "source": [
    "print(\"Data shape = \",tempDict['data'].shape)   #no. of samples x no. of features\n",
    "print(\"Labels shape = \",tempDict['label'].shape)     #no. of samples x label"
   ]
  },
  {
   "cell_type": "code",
   "execution_count": 90,
   "metadata": {},
   "outputs": [],
   "source": [
    "#For training dataset:\n",
    "data = torch.from_numpy(tempDict['data'])\n",
    "label = torch.from_numpy(tempDict['label'])\n",
    "\n",
    "#conversion from tensor value to one hot tensor value\n",
    "# print(label)\n",
    "# oneHot = torch.FloatTensor(label.size(0),10).zero_()\n",
    "# target = oneHot.scatter_(1,label,1)\n",
    "# print(target[0])\n",
    "\n",
    "data_4d = data.view(data.size()[0],3,32,32)  #converting the single image into 4d tensor.\n",
    "\n",
    "train = data_utils.TensorDataset(data_4d,label)\n",
    "train_loader = data_utils.DataLoader(train, batch_size=100, shuffle=False)"
   ]
  },
  {
   "cell_type": "code",
   "execution_count": 92,
   "metadata": {},
   "outputs": [
    {
     "name": "stdout",
     "output_type": "stream",
     "text": [
      "test_batch\n",
      "Shape of data label =  (1, 10000, 3072)\n",
      "Data shape =  (10000, 3072)\n",
      "Labels shape =  (10000, 1)\n"
     ]
    }
   ],
   "source": [
    "#For testing dataset:\n",
    "tempDict_test = ImageToArray(train=False)\n",
    "print(\"Shape of data label = \",tempDict_test['data'].shape)\n",
    "\n",
    "tempDict_test['data'] = np.reshape(tempDict_test['data'],(tempDict_test['data'].shape[0]*tempDict_test['data'].shape[1],tempDict_test['data'].shape[2]))\n",
    "tempDict_test['label'] = np.reshape(tempDict_test['label'],(tempDict_test['label'].shape[0]*tempDict_test['label'].shape[1],1))\n",
    "\n",
    "print(\"Data shape = \",tempDict_test['data'].shape)   #no. of samples x no. of features\n",
    "print(\"Labels shape = \",tempDict_test['label'].shape)     #no. of samples x label\n",
    "\n",
    "data_test = torch.from_numpy(tempDict_test['data'])\n",
    "label_test = torch.from_numpy(tempDict_test['label'])\n",
    "\n",
    "#conversion from tensor value to one hot tensor value\n",
    "# print(label)\n",
    "# oneHot = torch.FloatTensor(label.size(0),10).zero_()\n",
    "# target = oneHot.scatter_(1,label,1)\n",
    "# print(target[0])\n",
    "\n",
    "data_4d_test = data_test.view(data_test.size()[0],3,32,32)  #converting the single image into 4d tensor.\n",
    "\n",
    "test = data_utils.TensorDataset(data_4d_test,label_test)\n",
    "Test_loader = data_utils.DataLoader(test, batch_size=100, shuffle=False)"
   ]
  },
  {
   "cell_type": "code",
   "execution_count": 95,
   "metadata": {
    "scrolled": false
   },
   "outputs": [
    {
     "name": "stdout",
     "output_type": "stream",
     "text": [
      "Size of first image =  torch.Size([3, 32, 32])\n",
      "Label of first Image =  tensor([ 6])\n"
     ]
    }
   ],
   "source": [
    "#Size of each sample and label. TRAINING DATASET\n",
    "print(\"Size of first image = \",train_loader.dataset[0][0].size())\n",
    "print(\"Label of first Image = \",train_loader.dataset[0][1])"
   ]
  },
  {
   "cell_type": "code",
   "execution_count": 96,
   "metadata": {},
   "outputs": [
    {
     "name": "stdout",
     "output_type": "stream",
     "text": [
      "Size of first image =  torch.Size([3, 32, 32])\n",
      "Label of first Image =  tensor([ 3])\n"
     ]
    }
   ],
   "source": [
    "#Size of each sample and label. TESTING DATASET\n",
    "print(\"Size of first image = \",Test_loader.dataset[0][0].size())\n",
    "print(\"Label of first Image = \",Test_loader.dataset[0][1])"
   ]
  },
  {
   "cell_type": "code",
   "execution_count": 97,
   "metadata": {},
   "outputs": [
    {
     "data": {
      "text/plain": [
       "<matplotlib.image.AxesImage at 0x7f0e18df54e0>"
      ]
     },
     "execution_count": 97,
     "metadata": {},
     "output_type": "execute_result"
    },
    {
     "data": {
      "image/png": "[encoded data removed]",
      "text/plain": [
       "<Figure size 432x288 with 1 Axes>"
      ]
     },
     "metadata": {},
     "output_type": "display_data"
    }
   ],
   "source": [
    "#visualizing first Image TRAIN SET\n",
    "plt.imshow(train_loader.dataset[0][0].view(32,32,-1))"
   ]
  },
  {
   "cell_type": "code",
   "execution_count": 98,
   "metadata": {},
   "outputs": [
    {
     "data": {
      "text/plain": [
       "<matplotlib.image.AxesImage at 0x7f0e18d627f0>"
      ]
     },
     "execution_count": 98,
     "metadata": {},
     "output_type": "execute_result"
    },
    {
     "data": {
      "image/png": "[encoded data removed]",
      "text/plain": [
       "<Figure size 432x288 with 1 Axes>"
      ]
     },
     "metadata": {},
     "output_type": "display_data"
    }
   ],
   "source": [
    "#visualizing first Image TEST SET\n",
    "plt.imshow(Test_loader.dataset[0][0].view(32,32,-1))"
   ]
  },
  {
   "cell_type": "code",
   "execution_count": 99,
   "metadata": {},
   "outputs": [],
   "source": [
    "# buidling ConvNet.\n",
    "class Net(nn.Module):\n",
    "    def __init__(self):\n",
    "        super(Net,self).__init__()\n",
    "        \n",
    "        # 3 input channel, 6 output channel, with 5x5 kernels\n",
    "        self.conv1 = nn.Conv2d(3,6,5).double()\n",
    "        self.conv2 = nn.Conv2d(6,28,5).double()\n",
    "        self.conv3 = nn.Conv2d(28,32,3).double()\n",
    "        self.conv4 = nn.Conv2d(32,64,3).double()\n",
    "        #fc linear operation\n",
    "        self.fc1 = nn.Linear(64,128).double()\n",
    "        self.fc2 = nn.Linear(128,64).double()\n",
    "        self.fc3 = nn.Linear(64,10).double()\n",
    "        self.knowTheLastMaxPoolSize = False\n",
    "        \n",
    "    def forward(self,x):\n",
    "        x = x.double()\n",
    "        x = F.max_pool2d(F.relu(self.conv1(x)),(2,2))\n",
    "        x = F.max_pool2d(F.relu(self.conv2(x)),(2,2))\n",
    "        x = F.max_pool2d(F.relu(self.conv3(x)),1)\n",
    "        x = F.max_pool2d(F.relu(self.conv4(x)),1)\n",
    "        \n",
    "        if(self.knowTheLastMaxPoolSize==True):\n",
    "            print(x.size())\n",
    "            return\n",
    "        \n",
    "        x = x.view(x.size(0),-1)\n",
    "        x = F.relu(self.fc1(x))\n",
    "        x = F.relu(self.fc2(x))\n",
    "        x = self.fc3(x)\n",
    "        return x\n",
    "    \n",
    "        "
   ]
  },
  {
   "cell_type": "code",
   "execution_count": 100,
   "metadata": {},
   "outputs": [],
   "source": [
    "n1 = Net()"
   ]
  },
  {
   "cell_type": "code",
   "execution_count": 102,
   "metadata": {},
   "outputs": [
    {
     "name": "stdout",
     "output_type": "stream",
     "text": [
      "Net(\n",
      "  (conv1): Conv2d(3, 6, kernel_size=(5, 5), stride=(1, 1))\n",
      "  (conv2): Conv2d(6, 28, kernel_size=(5, 5), stride=(1, 1))\n",
      "  (conv3): Conv2d(28, 32, kernel_size=(3, 3), stride=(1, 1))\n",
      "  (conv4): Conv2d(32, 64, kernel_size=(3, 3), stride=(1, 1))\n",
      "  (fc1): Linear(in_features=64, out_features=128, bias=True)\n",
      "  (fc2): Linear(in_features=128, out_features=64, bias=True)\n",
      "  (fc3): Linear(in_features=64, out_features=10, bias=True)\n",
      ")\n",
      "False\n"
     ]
    }
   ],
   "source": [
    "print(n1)\n",
    "print(n1.knowTheLastMaxPoolSize)"
   ]
  },
  {
   "cell_type": "code",
   "execution_count": 106,
   "metadata": {
    "scrolled": false
   },
   "outputs": [
    {
     "name": "stdout",
     "output_type": "stream",
     "text": [
      "Loss =  tensor(0.4553, dtype=torch.float64)\r"
     ]
    }
   ],
   "source": [
    "#perfomring NN computations:\n",
    "# conv2d => relu => Maxpool2d => conv2d => relu => MaxPool2d => fc1 => fc2 => fc3\n",
    "# forward => loss => backward => update_weights\n",
    "\n",
    "#Deicde gradient descent optimizer\n",
    "optimizer = torch.optim.SGD(n1.parameters(),lr=0.001,momentum=0.9)\n",
    "\n",
    "#To know the size of data at last max pool:\n",
    "n1.knowTheLastMaxPoolSize = False\n",
    "#decide the loss function\n",
    "criterion = nn.CrossEntropyLoss() \n",
    "\n",
    "totalLoss = []\n",
    "tempLoss = 0\n",
    "correct = 0\n",
    "total = 0\n",
    "count = 0\n",
    "\n",
    "for i in range(50):    #no. of epochs = 5\n",
    "    for image,label in train_loader:\n",
    "        optimizer.zero_grad()   #zeroing the gradient buffer\n",
    "        \n",
    "        #forward + loss\n",
    "        output = n1.forward(image)\n",
    "        output = output.squeeze()\n",
    "        label = label.squeeze()\n",
    "        loss = criterion(output,label)\n",
    "        \n",
    "        #accumulating and printing the loss.\n",
    "        tempLoss = loss        \n",
    "        if(count%10 == 0):\n",
    "            print(\"Loss = \",loss,end=\"\\r\")\n",
    "        \n",
    "        #Calculating accuracy\n",
    "        _, predictIndex = torch.max(output,1)\n",
    "        correct += (predictIndex == label).sum().item()\n",
    "        total += label.size(0)\n",
    "        \n",
    "        #Backpropogation + updating weights\n",
    "        loss.backward()\n",
    "        optimizer.step()\n",
    "        count+=1\n",
    "        \n",
    "    totalLoss.append(tempLoss)"
   ]
  },
  {
   "cell_type": "code",
   "execution_count": 107,
   "metadata": {},
   "outputs": [
    {
     "data": {
      "text/plain": [
       "[<matplotlib.lines.Line2D at 0x7f0e18c96e10>]"
      ]
     },
     "execution_count": 107,
     "metadata": {},
     "output_type": "execute_result"
    },
    {
     "data": {
      "image/png": "[encoded data removed]",
      "text/plain": [
       "<Figure size 432x288 with 1 Axes>"
      ]
     },
     "metadata": {},
     "output_type": "display_data"
    }
   ],
   "source": [
    "plt.plot(totalLoss)"
   ]
  },
  {
   "cell_type": "code",
   "execution_count": 108,
   "metadata": {},
   "outputs": [
    {
     "name": "stdout",
     "output_type": "stream",
     "text": [
      "[array(0.99832426), array(0.95824013), array(0.83236181), array(0.84281374), array(0.82841998), array(0.79085281), array(0.77633795), array(0.87219442), array(0.80090179), array(0.77225414), array(0.8032738), array(0.78768372), array(0.70031886), array(0.69850363), array(0.71691108), array(0.81416751), array(0.7725149), array(0.70686029), array(0.7384704), array(0.84317718), array(0.75894297), array(0.8046386), array(0.83122643), array(0.84973053), array(0.83529938), array(0.77836118), array(0.73447468), array(0.76854207), array(0.74073465), array(0.61997874), array(0.74282112), array(0.62293533), array(0.64566961), array(0.71213097), array(0.72420304), array(0.78081913), array(0.6704274), array(0.56601461), array(0.57658927), array(0.66265634), array(0.68313325), array(0.57828019), array(0.65975321), array(0.62584633), array(0.71438228), array(0.64889269), array(0.74801943), array(0.57785333), array(0.71227977), array(0.66628166)]\n",
      "Accuracy Train =  72.23512\n"
     ]
    }
   ],
   "source": [
    "print([x.detach().numpy() for x in totalLoss])\n",
    "print(\"Accuracy Train = \",100*(correct/total))"
   ]
  },
  {
   "cell_type": "code",
   "execution_count": 109,
   "metadata": {},
   "outputs": [
    {
     "name": "stdout",
     "output_type": "stream",
     "text": [
      "Loss =  tensor(2.0114, dtype=torch.float64)\r"
     ]
    }
   ],
   "source": [
    "# For test set:\n",
    "optimizer = torch.optim.SGD(n1.parameters(),lr=0.001,momentum=0.9)\n",
    "\n",
    "#To know the size of data at last max pool:\n",
    "n1.knowTheLastMaxPoolSize = False\n",
    "#decide the loss function\n",
    "criterion = nn.CrossEntropyLoss() \n",
    "\n",
    "correct_test = 0\n",
    "total_test = 0\n",
    "\n",
    "for image,label in Test_loader:\n",
    "        output = n1.forward(image)\n",
    "        output = output.squeeze()\n",
    "        label = label.squeeze()\n",
    "        loss = criterion(output,label)\n",
    "        \n",
    "        #accumulating and printing the loss.\n",
    "        tempLoss = loss        \n",
    "        if(count%10 == 0):\n",
    "            print(\"Loss = \",loss,end=\"\\r\")\n",
    "        \n",
    "        #Calculating accuracy\n",
    "        _, predictIndex_test = torch.max(output,1)\n",
    "        correct_test += (predictIndex_test == label).sum().item()\n",
    "        total_test += label.size(0)"
   ]
  },
  {
   "cell_type": "code",
   "execution_count": 110,
   "metadata": {},
   "outputs": [
    {
     "name": "stdout",
     "output_type": "stream",
     "text": [
      "Accuracy Test =  53.620000000000005\n"
     ]
    }
   ],
   "source": [
    "print(\"Accuracy Test = \",100*(correct_test/total_test))"
   ]
  }
 ],
 "metadata": {
  "kernelspec": {
   "display_name": "Python 3",
   "language": "python",
   "name": "python3"
  },
  "language_info": {
   "codemirror_mode": {
    "name": "ipython",
    "version": 3
   },
   "file_extension": ".py",
   "mimetype": "text/x-python",
   "name": "python",
   "nbconvert_exporter": "python",
   "pygments_lexer": "ipython3",
   "version": "3.6.5"
  }
 },
 "nbformat": 4,
 "nbformat_minor": 2
}
